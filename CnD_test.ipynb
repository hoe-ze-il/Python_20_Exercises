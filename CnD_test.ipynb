{
 "cells": [
  {
   "cell_type": "code",
   "execution_count": 12,
   "id": "28b32677",
   "metadata": {},
   "outputs": [
    {
     "name": "stdout",
     "output_type": "stream",
     "text": [
      "Twinkle, twinkle, Little star, \n",
      "  How I wonder what you are! \n",
      "    Up above the world so high, \n",
      "    Like a diamond in the sky. \n",
      "Twinkle, twinkle, little star, \n",
      "  How I wonder what you are\n"
     ]
    }
   ],
   "source": [
    "#Question 1\n",
    "print(\"Twinkle, twinkle, Little star, \\n{:<2}How I wonder what you are! \\n{:<4}Up above the world so high, \\n{:<4}Like a diamond in the sky. \\nTwinkle, twinkle, little star, \\n{:<2}How I wonder what you are\".format(\" \", \" \", \" \", \" \"))"
   ]
  },
  {
   "cell_type": "code",
   "execution_count": 13,
   "id": "a77c92bc",
   "metadata": {},
   "outputs": [
    {
     "name": "stdout",
     "output_type": "stream",
     "text": [
      "Enter two integers: 1 2\n"
     ]
    }
   ],
   "source": [
    "#Question 2\n",
    "object1, object2 = input(\"Enter two integers: \").split()\n",
    "object1 = int(object1)\n",
    "object2 = int(object2)"
   ]
  },
  {
   "cell_type": "code",
   "execution_count": 17,
   "id": "b3d0ff37",
   "metadata": {},
   "outputs": [
    {
     "name": "stdout",
     "output_type": "stream",
     "text": [
      "Enter three integers: 1 2 2\n",
      "0\n"
     ]
    }
   ],
   "source": [
    "#Question 3\n",
    "n1, n2, n3 = input(\"Enter three integers: \").split()\n",
    "n1 = int(n1)\n",
    "n2 = int(n2)\n",
    "n3 = int(n3)\n",
    "result = n1 + n2 + n3\n",
    "if n1 == n2 or n1 == n3 or n2 == n3:\n",
    "    result = 0\n",
    "print(result)"
   ]
  },
  {
   "cell_type": "code",
   "execution_count": 18,
   "id": "71101cd7",
   "metadata": {},
   "outputs": [
    {
     "name": "stdout",
     "output_type": "stream",
     "text": [
      "49\n"
     ]
    }
   ],
   "source": [
    "#Question 4\n",
    "x = 4\n",
    "y = 3\n",
    "print((x + y)**2)"
   ]
  },
  {
   "cell_type": "code",
   "execution_count": 2,
   "id": "9d11dc0b",
   "metadata": {},
   "outputs": [
    {
     "name": "stdout",
     "output_type": "stream",
     "text": [
      "5.0\n"
     ]
    }
   ],
   "source": [
    "#Question 5\n",
    "import math\n",
    "x1 = int(input(\"Enter the point of x1: \"))\n",
    "y1 = int(input(\"Enter the point of y1: \"))\n",
    "x2 = int(input(\"Enter the point of x2: \"))\n",
    "y2 = int(input(\"Enter the point of y2: \"))\n",
    "distance = math.sqrt((x2 - x1)**2 + (y2 - y1)**2)\n",
    "print(round(distance, 2))"
   ]
  },
  {
   "cell_type": "code",
   "execution_count": 3,
   "id": "4223b9c0",
   "metadata": {},
   "outputs": [
    {
     "name": "stdout",
     "output_type": "stream",
     "text": [
      "*-*-*-*-*-*-*-*-*-*\n"
     ]
    }
   ],
   "source": [
    "#Question 6\n",
    "n = 10\n",
    "for i in range(n) :\n",
    "    if i != n - 1:\n",
    "        print('*', end = \"-\")\n",
    "    else:\n",
    "        print('*')\n"
   ]
  },
  {
   "cell_type": "code",
   "execution_count": 48,
   "id": "73b2aee8",
   "metadata": {},
   "outputs": [
    {
     "name": "stdout",
     "output_type": "stream",
     "text": [
      "Enter the height length: 4\n",
      "Enter the base length3\n",
      "The hypotenuse of a triangle is: 5\n"
     ]
    }
   ],
   "source": [
    "##Question 7\n",
    "import math\n",
    "height = int(input(\"Enter the height length: \"))\n",
    "base = int(input(\"Enter the base length\"))\n",
    "hypo = int(math.sqrt(height**2 + base**2))\n",
    "print(\"The hypotenuse of a triangle is:\", hypo)"
   ]
  },
  {
   "cell_type": "code",
   "execution_count": 4,
   "id": "c64117a2",
   "metadata": {},
   "outputs": [
    {
     "name": "stdout",
     "output_type": "stream",
     "text": [
      "Pressure = 1.0 Psi\n"
     ]
    }
   ],
   "source": [
    "#Question 8\n",
    "force = float(input(\"Enter the force: \"))\n",
    "area = float(input(\"Enter the area: \"))\n",
    "pressure = force / area\n",
    "pressure /= 6.89475729 #conver form kPa to Psi\n",
    "print(\"Pressure =\", round(pressure, 2), \"Psi\")\n",
    "\n"
   ]
  },
  {
   "cell_type": "code",
   "execution_count": 72,
   "id": "e35e7d67",
   "metadata": {},
   "outputs": [
    {
     "name": "stdout",
     "output_type": "stream",
     "text": [
      "Enter the length of line: 2\n",
      "midpoint of line is: 1.5\n"
     ]
    }
   ],
   "source": [
    "#Question 9\n",
    "length_line = int(input(\"Enter the length of line: \"))\n",
    "midpoint = (length_line + 1) / 2\n",
    "print(\"midpoint of line is:\", midpoint)"
   ]
  },
  {
   "cell_type": "code",
   "execution_count": 83,
   "id": "e428de07",
   "metadata": {},
   "outputs": [
    {
     "name": "stdout",
     "output_type": "stream",
     "text": [
      "Enter three integers: 4 2 4\n",
      "[2, 4, 4]\n"
     ]
    }
   ],
   "source": [
    "#Question 10\n",
    "n1, n2, n3 = input(\"Enter three integers: \").split()\n",
    "n1 = int(n1)\n",
    "n2 = int(n2)\n",
    "n3 = int(n3)\n",
    "list1 = []\n",
    "list1.append(n1)\n",
    "list1.append(n2)\n",
    "list1.append(n3)\n",
    "list1 = sorted(list1)\n",
    "print(list1)"
   ]
  },
  {
   "cell_type": "code",
   "execution_count": 1,
   "id": "6b702c8e",
   "metadata": {},
   "outputs": [
    {
     "name": "stdout",
     "output_type": "stream",
     "text": [
      "['__doc__', '__loader__', '__name__', '__package__', '__spec__', 'acos', 'acosh', 'asin', 'asinh', 'atan', 'atan2', 'atanh', 'cbrt', 'ceil', 'comb', 'copysign', 'cos', 'cosh', 'degrees', 'dist', 'e', 'erf', 'erfc', 'exp', 'exp2', 'expm1', 'fabs', 'factorial', 'floor', 'fmod', 'frexp', 'fsum', 'gamma', 'gcd', 'hypot', 'inf', 'isclose', 'isfinite', 'isinf', 'isnan', 'isqrt', 'lcm', 'ldexp', 'lgamma', 'log', 'log10', 'log1p', 'log2', 'modf', 'nan', 'nextafter', 'perm', 'pi', 'pow', 'prod', 'radians', 'remainder', 'sin', 'sinh', 'sqrt', 'tan', 'tanh', 'tau', 'trunc', 'ulp']\n"
     ]
    }
   ],
   "source": [
    "#Question 11\n",
    "import math\n",
    "print(dir(math))"
   ]
  },
  {
   "cell_type": "code",
   "execution_count": 92,
   "id": "ae0d06cd",
   "metadata": {},
   "outputs": [
    {
     "name": "stdout",
     "output_type": "stream",
     "text": [
      "100\n"
     ]
    }
   ],
   "source": [
    "#Question 12\n",
    "n = int(input(\"Enter the amount of number you want to sum: \"))\n",
    "list1 = []\n",
    "result = 0\n",
    "for i in range(1, n + 1):\n",
    "    num_n = int(input(\"Enter {}st integer: \".format(i)))\n",
    "    list1.append(num_n)\n",
    "for i in list1:\n",
    "    result += i\n",
    "print(result)\n"
   ]
  },
  {
   "cell_type": "code",
   "execution_count": 173,
   "id": "a3377ed7",
   "metadata": {},
   "outputs": [
    {
     "name": "stdout",
     "output_type": "stream",
     "text": [
      "2\n"
     ]
    }
   ],
   "source": [
    "#Question 13\n",
    "sample_list = ['abc', 'xyz', 'aba', '1221']\n",
    "count = 0\n",
    "for i in sample_list :\n",
    "    if i[0] == i[-1] :\n",
    "        count += 1\n",
    "print(count)"
   ]
  },
  {
   "cell_type": "code",
   "execution_count": 14,
   "id": "4a9768ac",
   "metadata": {},
   "outputs": [
    {
     "name": "stdout",
     "output_type": "stream",
     "text": [
      "[(2, 1), (1, 2), (2, 3), (4, 4), (2, 5)]\n"
     ]
    }
   ],
   "source": [
    "#Question 14\n",
    "my_list=[(2, 5), (1, 2), (4, 4), (2, 3), (2, 1)]\n",
    "i=0\n",
    "while i<len(my_list)-1:\n",
    "    j=i+1\n",
    "    while j<len(my_list):\n",
    "        if my_list[i][-1]>my_list[j][-1]:\n",
    "            temp= my_list[i]\n",
    "            my_list[i]=my_list[j]\n",
    "            my_list[j]=temp  \n",
    "        j+=1\n",
    "    i+=1\n",
    "print(my_list)"
   ]
  },
  {
   "cell_type": "code",
   "execution_count": 165,
   "id": "29f69b35",
   "metadata": {},
   "outputs": [
    {
     "name": "stdout",
     "output_type": "stream",
     "text": [
      "Red\n"
     ]
    }
   ],
   "source": [
    "#Question 15\n",
    "import random as rd\n",
    "color_list = ['Red', 'Blue', 'Green', 'White', 'Black']\n",
    "ran_select = rd.randrange(len(color_list))\n",
    "i = ran_select\n",
    "if ran_select == i:\n",
    "    print(color_list[i])    "
   ]
  },
  {
   "cell_type": "code",
   "execution_count": 2,
   "id": "899fe234",
   "metadata": {},
   "outputs": [
    {
     "name": "stdout",
     "output_type": "stream",
     "text": [
      "[10, 30, 50, 60]\n"
     ]
    }
   ],
   "source": [
    "#Question 16\n",
    "my_list = [10, 20, 30, 40, 20, 50, 60, 40]\n",
    "sort_list = sorted(my_list)\n",
    "uniq_list = []\n",
    "for i in sort_list:\n",
    "    count = sort_list.count(i)\n",
    "    if count == 1:\n",
    "        uniq_list.append(i)\n",
    "print(uniq_list)"
   ]
  },
  {
   "cell_type": "code",
   "execution_count": 2,
   "id": "106e2f27",
   "metadata": {},
   "outputs": [
    {
     "name": "stdout",
     "output_type": "stream",
     "text": [
      "[['a', 'd', 'g', 'j', 'm'], ['b', 'e', 'h', 'k', 'n'], ['c', 'f', 'i', 'l']]\n"
     ]
    }
   ],
   "source": [
    "#Question 17\n",
    "my_list=['a', 'b', 'c', 'd', 'e', 'f', 'g', 'h', 'i', 'j', 'k', 'l', 'm', 'n']\n",
    "n=int(input('Enter value that you want to split: '))\n",
    "temp=[]\n",
    "indx=0\n",
    "for i in range(n):\n",
    "    sublist=[]\n",
    "    for j in my_list[indx::n]:\n",
    "        sublist.append(j)\n",
    "    temp.append(sublist)\n",
    "    indx+=1\n",
    "print(temp)"
   ]
  },
  {
   "cell_type": "code",
   "execution_count": 67,
   "id": "1999f00b",
   "metadata": {},
   "outputs": [
    {
     "name": "stdout",
     "output_type": "stream",
     "text": [
      "['red-green-orange']\n",
      "['redgreenorange']\n"
     ]
    }
   ],
   "source": [
    "#Question 18\n",
    "color_list = ['red', 'green', 'orange']\n",
    "sublist1 = []\n",
    "sublist2 = []\n",
    "color_list1 = color_list[0] + \"-\" + color_list[1] + \"-\" + color_list[2]\n",
    "color_list2 = color_list[0] + color_list[1] + color_list[2]\n",
    "sublist1.append(color_list1)\n",
    "sublist2.append(color_list2)\n",
    "print(sublist1)\n",
    "print(sublist2)"
   ]
  },
  {
   "cell_type": "code",
   "execution_count": 80,
   "id": "8c06df72",
   "metadata": {},
   "outputs": [
    {
     "name": "stdout",
     "output_type": "stream",
     "text": [
      "['emp1', 'emp2', 'emp3', 'emp4']\n"
     ]
    }
   ],
   "source": [
    "#Question 19\n",
    "sample_list = [1, 2, 3, 4]\n",
    "list1 = []\n",
    "for i in sample_list:\n",
    "    list1.append(\"emp{}\".format(i))\n",
    "print(list1)"
   ]
  },
  {
   "cell_type": "code",
   "execution_count": 90,
   "id": "7c60b964",
   "metadata": {},
   "outputs": [
    {
     "name": "stdout",
     "output_type": "stream",
     "text": [
      "Items start with ab from the said list: \n",
      "[]\n"
     ]
    }
   ],
   "source": [
    "#Question 20\n",
    "sample_list = ['abcd', 'abc', 'bcd', 'bkie', 'cder', 'cdsw', 'sdfsd', 'dagfa', 'acjd']\n",
    "char = input(\"Enter a character: \")\n",
    "char_list = []\n",
    "for i in sample_list:\n",
    "    if char == i[0]:\n",
    "        char_list.append(i)\n",
    "print(\"Items start with\", char, \"from the said list: \")\n",
    "print(char_list)"
   ]
  },
  {
   "cell_type": "code",
   "execution_count": null,
   "metadata": {},
   "outputs": [],
   "source": []
  }
 ],
 "metadata": {
  "kernelspec": {
   "display_name": "Python 3 (ipykernel)",
   "language": "python",
   "name": "python3"
  },
  "language_info": {
   "codemirror_mode": {
    "name": "ipython",
    "version": 3
   },
   "file_extension": ".py",
   "mimetype": "text/x-python",
   "name": "python",
   "nbconvert_exporter": "python",
   "pygments_lexer": "ipython3",
   "version": "3.11.2"
  }
 },
 "nbformat": 4,
 "nbformat_minor": 5
}
